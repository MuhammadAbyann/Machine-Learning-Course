{
  "nbformat": 4,
  "nbformat_minor": 0,
  "metadata": {
    "colab": {
      "provenance": []
    },
    "kernelspec": {
      "name": "python3",
      "display_name": "Python 3"
    },
    "language_info": {
      "name": "python"
    }
  },
  "cells": [
    {
      "cell_type": "code",
      "execution_count": 28,
      "metadata": {
        "id": "xr3mudHD3bGO"
      },
      "outputs": [],
      "source": [
        "import pandas as pd\n",
        "from sklearn.model_selection import train_test_split\n",
        "from xgboost import XGBClassifier\n",
        "from sklearn.metrics import accuracy_score, confusion_matrix, classification_report\n",
        "import matplotlib.pyplot as plt\n",
        "import seaborn as sns"
      ]
    },
    {
      "cell_type": "code",
      "source": [
        "from google.colab import drive\n",
        "drive.mount('/content/drive')"
      ],
      "metadata": {
        "colab": {
          "base_uri": "https://localhost:8080/"
        },
        "id": "ndyN19vb4CdW",
        "outputId": "cb495b54-4e35-471d-faa2-e29d50a0c7c6"
      },
      "execution_count": 29,
      "outputs": [
        {
          "output_type": "stream",
          "name": "stdout",
          "text": [
            "Drive already mounted at /content/drive; to attempt to forcibly remount, call drive.mount(\"/content/drive\", force_remount=True).\n"
          ]
        }
      ]
    },
    {
      "cell_type": "code",
      "source": [
        "# prompt: Write a code cell to read a CSV file from Google Drive into a DataFrame.\n",
        "\n",
        "import pandas as pd\n",
        "\n",
        "# Replace 'path/to/your/file.csv' with the actual path to your CSV file in Google Drive\n",
        "file_path = '/content/drive/My Drive/Machine Learning/tugasxgboost.csv'\n",
        "\n",
        "try:\n",
        "  df = pd.read_csv(file_path)\n",
        "  print(\"File loaded successfully!\")\n",
        "  # You can now work with the DataFrame 'df'\n",
        "  print(df.head())\n",
        "except FileNotFoundError:\n",
        "  print(f\"Error: File not found at {file_path}\")\n",
        "except pd.errors.ParserError:\n",
        "  print(f\"Error: Could not parse the CSV file at {file_path}. Check the file format.\")\n",
        "except Exception as e:\n",
        "  print(f\"An unexpected error occurred: {e}\")"
      ],
      "metadata": {
        "colab": {
          "base_uri": "https://localhost:8080/"
        },
        "id": "dwltTapU4Q3A",
        "outputId": "bbf54806-6a81-49f8-f82f-145440bece2f"
      },
      "execution_count": 30,
      "outputs": [
        {
          "output_type": "stream",
          "name": "stdout",
          "text": [
            "File loaded successfully!\n",
            "     X1    X2    X3   X4    X5    X6    X7        X8    X9   X10  X11  Class\n",
            "0   7.4  0.70  0.00  1.9  76.0  11.0  34.0    0.9978  3.51  0.56  9.4      5\n",
            "1   7.8  0.88  0.00  2.6  98.0  25.0  67.0    0.9968  3.20  0.68  9.8      5\n",
            "2   7.8  0.76  0.04  2.3  92.0  15.0  54.0  997.0000  3.26  0.65  9.8      5\n",
            "3  11.2  0.28  0.56  1.9  75.0  17.0  60.0  998.0000  3.16  0.58  9.8      6\n",
            "4   7.4  0.70  0.00  1.9  76.0  11.0  34.0    0.9978  3.51  0.56  9.4      5\n"
          ]
        }
      ]
    },
    {
      "cell_type": "code",
      "source": [
        "# prompt: Write a code cell to select a subset of predictors ['Rooms', 'Distance', 'Landsize', 'BuildingArea', 'YearBuilt'] and set the target variable ['Price'] from the DataFrame.\n",
        "\n",
        "# Assuming 'df' is your DataFrame from the previous code cell\n",
        "predictors = ['X1', 'X2', 'X3', 'X4', 'X5']\n",
        "target = 'Class'\n",
        "\n",
        "# Select predictors and target\n",
        "X = df[predictors]\n",
        "y = df[target]\n",
        "\n",
        "# Now, 'X' contains the selected predictors, and 'y' contains the target variable 'Price'.\n",
        "# You can further process these variables (e.g., handling missing values, feature scaling)\n",
        "# before using them for model training.\n",
        "\n",
        "print(\"Predictors (X):\")\n",
        "print(X.head())\n",
        "\n",
        "print(\"\\nTarget (y):\")\n",
        "print(y.head())"
      ],
      "metadata": {
        "colab": {
          "base_uri": "https://localhost:8080/"
        },
        "id": "2SsO0Yyj4hHM",
        "outputId": "3fbd7a8d-41fc-497d-9e62-c9444f833790"
      },
      "execution_count": 31,
      "outputs": [
        {
          "output_type": "stream",
          "name": "stdout",
          "text": [
            "Predictors (X):\n",
            "     X1    X2    X3   X4    X5\n",
            "0   7.4  0.70  0.00  1.9  76.0\n",
            "1   7.8  0.88  0.00  2.6  98.0\n",
            "2   7.8  0.76  0.04  2.3  92.0\n",
            "3  11.2  0.28  0.56  1.9  75.0\n",
            "4   7.4  0.70  0.00  1.9  76.0\n",
            "\n",
            "Target (y):\n",
            "0    5\n",
            "1    5\n",
            "2    5\n",
            "3    6\n",
            "4    5\n",
            "Name: Class, dtype: int64\n"
          ]
        }
      ]
    },
    {
      "cell_type": "code",
      "source": [
        "# prompt: Write a code cell to split the data into training and validation\n",
        "\n",
        "from sklearn.model_selection import train_test_split\n",
        "\n",
        "# Split data into training and validation sets\n",
        "X_train, X_valid, y_train, y_valid = train_test_split(X, y, train_size=0.8, test_size=0.2, random_state=0)\n",
        "\n",
        "# Now you have X_train, X_valid, y_train, and y_valid for model training and evaluation\n",
        "print(\"X_train shape:\", X_train.shape)\n",
        "print(\"X_valid shape:\", X_valid.shape)\n",
        "print(\"y_train shape:\", y_train.shape)\n",
        "print(\"y_valid shape:\", y_valid.shape)"
      ],
      "metadata": {
        "colab": {
          "base_uri": "https://localhost:8080/"
        },
        "id": "jNo8aQBq6idF",
        "outputId": "839ed1fa-fde0-4bbc-f79c-f7a3fb72adf5"
      },
      "execution_count": 32,
      "outputs": [
        {
          "output_type": "stream",
          "name": "stdout",
          "text": [
            "X_train shape: (1279, 5)\n",
            "X_valid shape: (320, 5)\n",
            "y_train shape: (1279,)\n",
            "y_valid shape: (320,)\n"
          ]
        }
      ]
    },
    {
      "cell_type": "code",
      "source": [
        "import xgboost as xgb\n",
        "from sklearn.metrics import mean_absolute_error\n",
        "# Instead of importing EarlyStopping, use the early_stopping_rounds parameter in xgb.XGBRegressor\n",
        "# from xgboost.callback import EarlyStopping\n",
        "\n",
        "# Define the model, using early_stopping_rounds instead of a callback\n",
        "my_model = xgb.XGBRegressor(n_estimators=1000, learning_rate=0.05, early_stopping_rounds=5)\n",
        "\n",
        "\n",
        "# Train the model\n",
        "# Remove the callbacks argument and use eval_set and verbose instead\n",
        "my_model.fit(X_train, y_train,\n",
        "             eval_set=[(X_valid, y_valid)],\n",
        "             verbose=False)\n",
        "\n",
        "# Make predictions\n",
        "predictions = my_model.predict(X_valid)\n",
        "\n",
        "# Calculate and print the mean absolute error\n",
        "mae = mean_absolute_error(predictions, y_valid)\n",
        "print(\"Mean Absolute Error:\", mae)"
      ],
      "metadata": {
        "colab": {
          "base_uri": "https://localhost:8080/"
        },
        "id": "R5kJhMS77KUa",
        "outputId": "8c21eb0e-516f-4c34-cd57-6fe37b5cd729"
      },
      "execution_count": 33,
      "outputs": [
        {
          "output_type": "stream",
          "name": "stdout",
          "text": [
            "Mean Absolute Error: 0.5486915558576584\n"
          ]
        }
      ]
    },
    {
      "cell_type": "code",
      "source": [
        "import xgboost as xgb\n",
        "from sklearn.metrics import mean_absolute_error\n",
        "\n",
        "# Create and train the XGBoost model with 500 estimators\n",
        "my_model_2 = xgb.XGBRegressor(n_estimators=500)\n",
        "my_model_2.fit(X_train, y_train)\n",
        "\n",
        "# Make predictions on the validation set\n",
        "predictions_2 = my_model_2.predict(X_valid)\n",
        "\n",
        "# Calculate and print the mean absolute error\n",
        "mae_2 = mean_absolute_error(predictions_2, y_valid)\n",
        "print(\"Mean Absolute Error (500 estimators):\", mae_2)"
      ],
      "metadata": {
        "colab": {
          "base_uri": "https://localhost:8080/"
        },
        "id": "Dx5qcQyL8d7r",
        "outputId": "3cea102f-c0aa-4944-f11e-10ed8b42f21b"
      },
      "execution_count": 34,
      "outputs": [
        {
          "output_type": "stream",
          "name": "stdout",
          "text": [
            "Mean Absolute Error (500 estimators): 0.5125624760985374\n"
          ]
        }
      ]
    },
    {
      "cell_type": "code",
      "source": [
        "# prompt: Write a code cell to train an XGBRegressor with a custom learning rate, 90 estimators, and early stopping rounds, and print the mean absolute error on the validation set.\n",
        "\n",
        "# Create and train the XGBoost model with custom learning rate, 90 estimators, and early stopping\n",
        "my_model_3 = xgb.XGBRegressor(n_estimators=90, learning_rate=0.05, early_stopping_rounds=5)\n",
        "my_model_3.fit(X_train, y_train, eval_set=[(X_valid, y_valid)], verbose=False)\n",
        "\n",
        "# Make predictions on the validation set\n",
        "predictions_3 = my_model_3.predict(X_valid)\n",
        "\n",
        "# Calculate and print the mean absolute error\n",
        "mae_3 = mean_absolute_error(predictions_3, y_valid)\n",
        "print(\"Mean Absolute Error (custom learning rate, 90 estimators, early stopping):\", mae_3)"
      ],
      "metadata": {
        "colab": {
          "base_uri": "https://localhost:8080/"
        },
        "id": "grioKEiQ8jjA",
        "outputId": "e4b882d0-9c46-4c6c-98f8-7214712cf9d1"
      },
      "execution_count": 35,
      "outputs": [
        {
          "output_type": "stream",
          "name": "stdout",
          "text": [
            "Mean Absolute Error (custom learning rate, 90 estimators, early stopping): 0.5486915558576584\n"
          ]
        }
      ]
    }
  ]
}